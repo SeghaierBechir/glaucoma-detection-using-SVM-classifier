{
  "nbformat": 4,
  "nbformat_minor": 0,
  "metadata": {
    "colab": {
      "provenance": []
    },
    "kernelspec": {
      "name": "python3",
      "display_name": "Python 3"
    },
    "language_info": {
      "name": "python"
    },
    "accelerator": "GPU"
  },
  "cells": [
    {
      "cell_type": "code",
      "execution_count": null,
      "metadata": {
        "id": "kadUc6XM_b1h"
      },
      "outputs": [],
      "source": [
        "import matplotlib.pyplot as plt\n",
        "import numpy as np\n",
        "import pandas as pd\n",
        "import os\n",
        "from glob import glob\n",
        "import seaborn as sns\n",
        "from PIL import Image\n",
        "np.random.seed(42)\n",
        "from sklearn.metrics import confusion_matrix\n",
        "import keras\n",
        "from keras.utils.np_utils import to_categorical # used for converting labels to one-hot-encoding\n",
        "from keras.models import Sequential\n",
        "from keras.layers import Dense, Dropout, Flatten, Conv2D, MaxPool2D, BatchNormalization\n",
        "from sklearn.model_selection import train_test_split\n",
        "from scipy import stats\n",
        "from sklearn.preprocessing import LabelEncoder"
      ]
    },
    {
      "cell_type": "code",
      "source": [
        "from google.colab import drive\n",
        "drive.mount('/content/gdrive')"
      ],
      "metadata": {
        "colab": {
          "base_uri": "https://localhost:8080/"
        },
        "id": "HZ3JQS7a_3HH",
        "outputId": "e20cd318-6d41-4f3d-b07c-d5ff2d78edbb"
      },
      "execution_count": null,
      "outputs": [
        {
          "output_type": "stream",
          "name": "stdout",
          "text": [
            "Mounted at /content/gdrive\n"
          ]
        }
      ]
    },
    {
      "cell_type": "code",
      "source": [
        "glaucoma_data=pd.read_csv('/content/gdrive/MyDrive/Drishti-GS1/Drishti-GS1_diagnosis.csv',header=0)\n",
        "glaucoma_data.head(5)"
      ],
      "metadata": {
        "colab": {
          "base_uri": "https://localhost:8080/",
          "height": 206
        },
        "id": "EoLqaXpQAIei",
        "outputId": "f0b7c1ee-a371-4bbc-88fc-0e2fd514d1c6"
      },
      "execution_count": null,
      "outputs": [
        {
          "output_type": "execute_result",
          "data": {
            "text/plain": [
              "  Drishti-GS File  Patient ID  Marking 1  Marking 2  Marking 3  Marking 4  \\\n",
              "0   drishtiGS_001     1077987         -1         -1          1          1   \n",
              "1   drishtiGS_002     1167573          1          1          1          1   \n",
              "2   drishtiGS_003     1393265          1          1          1          1   \n",
              "3   drishtiGS_004     1393265          1          1         -1          1   \n",
              "4   drishtiGS_005     1481925          1          1          1          1   \n",
              "\n",
              "   Additional Expert         Total  \n",
              "0                  1  Glaucomatous  \n",
              "1                  1  Glaucomatous  \n",
              "2                  1  Glaucomatous  \n",
              "3                  1  Glaucomatous  \n",
              "4                  1  Glaucomatous  "
            ],
            "text/html": [
              "\n",
              "  <div id=\"df-b55fcd6e-581e-48b9-a2ff-bf5d273e4464\">\n",
              "    <div class=\"colab-df-container\">\n",
              "      <div>\n",
              "<style scoped>\n",
              "    .dataframe tbody tr th:only-of-type {\n",
              "        vertical-align: middle;\n",
              "    }\n",
              "\n",
              "    .dataframe tbody tr th {\n",
              "        vertical-align: top;\n",
              "    }\n",
              "\n",
              "    .dataframe thead th {\n",
              "        text-align: right;\n",
              "    }\n",
              "</style>\n",
              "<table border=\"1\" class=\"dataframe\">\n",
              "  <thead>\n",
              "    <tr style=\"text-align: right;\">\n",
              "      <th></th>\n",
              "      <th>Drishti-GS File</th>\n",
              "      <th>Patient ID</th>\n",
              "      <th>Marking 1</th>\n",
              "      <th>Marking 2</th>\n",
              "      <th>Marking 3</th>\n",
              "      <th>Marking 4</th>\n",
              "      <th>Additional Expert</th>\n",
              "      <th>Total</th>\n",
              "    </tr>\n",
              "  </thead>\n",
              "  <tbody>\n",
              "    <tr>\n",
              "      <th>0</th>\n",
              "      <td>drishtiGS_001</td>\n",
              "      <td>1077987</td>\n",
              "      <td>-1</td>\n",
              "      <td>-1</td>\n",
              "      <td>1</td>\n",
              "      <td>1</td>\n",
              "      <td>1</td>\n",
              "      <td>Glaucomatous</td>\n",
              "    </tr>\n",
              "    <tr>\n",
              "      <th>1</th>\n",
              "      <td>drishtiGS_002</td>\n",
              "      <td>1167573</td>\n",
              "      <td>1</td>\n",
              "      <td>1</td>\n",
              "      <td>1</td>\n",
              "      <td>1</td>\n",
              "      <td>1</td>\n",
              "      <td>Glaucomatous</td>\n",
              "    </tr>\n",
              "    <tr>\n",
              "      <th>2</th>\n",
              "      <td>drishtiGS_003</td>\n",
              "      <td>1393265</td>\n",
              "      <td>1</td>\n",
              "      <td>1</td>\n",
              "      <td>1</td>\n",
              "      <td>1</td>\n",
              "      <td>1</td>\n",
              "      <td>Glaucomatous</td>\n",
              "    </tr>\n",
              "    <tr>\n",
              "      <th>3</th>\n",
              "      <td>drishtiGS_004</td>\n",
              "      <td>1393265</td>\n",
              "      <td>1</td>\n",
              "      <td>1</td>\n",
              "      <td>-1</td>\n",
              "      <td>1</td>\n",
              "      <td>1</td>\n",
              "      <td>Glaucomatous</td>\n",
              "    </tr>\n",
              "    <tr>\n",
              "      <th>4</th>\n",
              "      <td>drishtiGS_005</td>\n",
              "      <td>1481925</td>\n",
              "      <td>1</td>\n",
              "      <td>1</td>\n",
              "      <td>1</td>\n",
              "      <td>1</td>\n",
              "      <td>1</td>\n",
              "      <td>Glaucomatous</td>\n",
              "    </tr>\n",
              "  </tbody>\n",
              "</table>\n",
              "</div>\n",
              "      <button class=\"colab-df-convert\" onclick=\"convertToInteractive('df-b55fcd6e-581e-48b9-a2ff-bf5d273e4464')\"\n",
              "              title=\"Convert this dataframe to an interactive table.\"\n",
              "              style=\"display:none;\">\n",
              "        \n",
              "  <svg xmlns=\"http://www.w3.org/2000/svg\" height=\"24px\"viewBox=\"0 0 24 24\"\n",
              "       width=\"24px\">\n",
              "    <path d=\"M0 0h24v24H0V0z\" fill=\"none\"/>\n",
              "    <path d=\"M18.56 5.44l.94 2.06.94-2.06 2.06-.94-2.06-.94-.94-2.06-.94 2.06-2.06.94zm-11 1L8.5 8.5l.94-2.06 2.06-.94-2.06-.94L8.5 2.5l-.94 2.06-2.06.94zm10 10l.94 2.06.94-2.06 2.06-.94-2.06-.94-.94-2.06-.94 2.06-2.06.94z\"/><path d=\"M17.41 7.96l-1.37-1.37c-.4-.4-.92-.59-1.43-.59-.52 0-1.04.2-1.43.59L10.3 9.45l-7.72 7.72c-.78.78-.78 2.05 0 2.83L4 21.41c.39.39.9.59 1.41.59.51 0 1.02-.2 1.41-.59l7.78-7.78 2.81-2.81c.8-.78.8-2.07 0-2.86zM5.41 20L4 18.59l7.72-7.72 1.47 1.35L5.41 20z\"/>\n",
              "  </svg>\n",
              "      </button>\n",
              "      \n",
              "  <style>\n",
              "    .colab-df-container {\n",
              "      display:flex;\n",
              "      flex-wrap:wrap;\n",
              "      gap: 12px;\n",
              "    }\n",
              "\n",
              "    .colab-df-convert {\n",
              "      background-color: #E8F0FE;\n",
              "      border: none;\n",
              "      border-radius: 50%;\n",
              "      cursor: pointer;\n",
              "      display: none;\n",
              "      fill: #1967D2;\n",
              "      height: 32px;\n",
              "      padding: 0 0 0 0;\n",
              "      width: 32px;\n",
              "    }\n",
              "\n",
              "    .colab-df-convert:hover {\n",
              "      background-color: #E2EBFA;\n",
              "      box-shadow: 0px 1px 2px rgba(60, 64, 67, 0.3), 0px 1px 3px 1px rgba(60, 64, 67, 0.15);\n",
              "      fill: #174EA6;\n",
              "    }\n",
              "\n",
              "    [theme=dark] .colab-df-convert {\n",
              "      background-color: #3B4455;\n",
              "      fill: #D2E3FC;\n",
              "    }\n",
              "\n",
              "    [theme=dark] .colab-df-convert:hover {\n",
              "      background-color: #434B5C;\n",
              "      box-shadow: 0px 1px 3px 1px rgba(0, 0, 0, 0.15);\n",
              "      filter: drop-shadow(0px 1px 2px rgba(0, 0, 0, 0.3));\n",
              "      fill: #FFFFFF;\n",
              "    }\n",
              "  </style>\n",
              "\n",
              "      <script>\n",
              "        const buttonEl =\n",
              "          document.querySelector('#df-b55fcd6e-581e-48b9-a2ff-bf5d273e4464 button.colab-df-convert');\n",
              "        buttonEl.style.display =\n",
              "          google.colab.kernel.accessAllowed ? 'block' : 'none';\n",
              "\n",
              "        async function convertToInteractive(key) {\n",
              "          const element = document.querySelector('#df-b55fcd6e-581e-48b9-a2ff-bf5d273e4464');\n",
              "          const dataTable =\n",
              "            await google.colab.kernel.invokeFunction('convertToInteractive',\n",
              "                                                     [key], {});\n",
              "          if (!dataTable) return;\n",
              "\n",
              "          const docLinkHtml = 'Like what you see? Visit the ' +\n",
              "            '<a target=\"_blank\" href=https://colab.research.google.com/notebooks/data_table.ipynb>data table notebook</a>'\n",
              "            + ' to learn more about interactive tables.';\n",
              "          element.innerHTML = '';\n",
              "          dataTable['output_type'] = 'display_data';\n",
              "          await google.colab.output.renderOutput(dataTable, element);\n",
              "          const docLink = document.createElement('div');\n",
              "          docLink.innerHTML = docLinkHtml;\n",
              "          element.appendChild(docLink);\n",
              "        }\n",
              "      </script>\n",
              "    </div>\n",
              "  </div>\n",
              "  "
            ]
          },
          "metadata": {},
          "execution_count": 3
        }
      ]
    },
    {
      "cell_type": "code",
      "source": [
        "glaucoma_data.shape"
      ],
      "metadata": {
        "colab": {
          "base_uri": "https://localhost:8080/"
        },
        "id": "0qP_qe0LDzOA",
        "outputId": "c0ef4f30-e8a9-4b9d-c0b2-044b7d38a752"
      },
      "execution_count": null,
      "outputs": [
        {
          "output_type": "execute_result",
          "data": {
            "text/plain": [
              "(101, 8)"
            ]
          },
          "metadata": {},
          "execution_count": 4
        }
      ]
    },
    {
      "cell_type": "code",
      "source": [
        "le = LabelEncoder()\n",
        "le.fit(glaucoma_data['Total'])\n",
        "LabelEncoder()\n",
        "print(list(le.classes_))"
      ],
      "metadata": {
        "colab": {
          "base_uri": "https://localhost:8080/"
        },
        "id": "dR7WAmKfEB3r",
        "outputId": "5c5c0496-e7be-401a-cea7-0e26c1704e32"
      },
      "execution_count": null,
      "outputs": [
        {
          "output_type": "stream",
          "name": "stdout",
          "text": [
            "['Glaucomatous', 'Normal']\n"
          ]
        }
      ]
    },
    {
      "cell_type": "code",
      "source": [
        "glaucoma_data['label']=le.transform(glaucoma_data['Total'])\n",
        "print(glaucoma_data.sample(10))"
      ],
      "metadata": {
        "colab": {
          "base_uri": "https://localhost:8080/"
        },
        "id": "uKWNic2SEOWQ",
        "outputId": "921eec09-1eba-4361-ed44-f492678d7024"
      },
      "execution_count": null,
      "outputs": [
        {
          "output_type": "stream",
          "name": "stdout",
          "text": [
            "   Drishti-GS File  Patient ID  Marking 1  Marking 2  Marking 3  Marking 4  \\\n",
            "84   drishtiGS_085     2829822         -1         -1          1          1   \n",
            "55   drishtiGS_056     2617454          1          1          1          1   \n",
            "66   drishtiGS_067     2737392          1         -1          1          1   \n",
            "67   drishtiGS_068     2745345          1          1          1          1   \n",
            "45   drishtiGS_046     2508068         -1         -1         -1          1   \n",
            "39   drishtiGS_040     2396691          1          1          1          1   \n",
            "22   drishtiGS_023     2070741          1         -1          1          1   \n",
            "44   drishtiGS_045     2489693          1          1          1          1   \n",
            "10   drishtiGS_011     1731185          1          1          1          1   \n",
            "0    drishtiGS_001     1077987         -1         -1          1          1   \n",
            "\n",
            "    Additional Expert         Total  label  \n",
            "84                 -1        Normal      1  \n",
            "55                 -1  Glaucomatous      0  \n",
            "66                 -1  Glaucomatous      0  \n",
            "67                 -1  Glaucomatous      0  \n",
            "45                 -1        Normal      1  \n",
            "39                  1  Glaucomatous      0  \n",
            "22                  1  Glaucomatous      0  \n",
            "44                 -1  Glaucomatous      0  \n",
            "10                  1  Glaucomatous      0  \n",
            "0                   1  Glaucomatous      0  \n"
          ]
        }
      ]
    },
    {
      "cell_type": "code",
      "source": [
        "glaucoma_data.head()"
      ],
      "metadata": {
        "colab": {
          "base_uri": "https://localhost:8080/",
          "height": 206
        },
        "id": "Y_yl4wHVEsIY",
        "outputId": "0812c04f-5bab-495c-8d0b-9a41fc2b4a90"
      },
      "execution_count": null,
      "outputs": [
        {
          "output_type": "execute_result",
          "data": {
            "text/plain": [
              "  Drishti-GS File  Patient ID  Marking 1  Marking 2  Marking 3  Marking 4  \\\n",
              "0   drishtiGS_001     1077987         -1         -1          1          1   \n",
              "1   drishtiGS_002     1167573          1          1          1          1   \n",
              "2   drishtiGS_003     1393265          1          1          1          1   \n",
              "3   drishtiGS_004     1393265          1          1         -1          1   \n",
              "4   drishtiGS_005     1481925          1          1          1          1   \n",
              "\n",
              "   Additional Expert         Total  label  \n",
              "0                  1  Glaucomatous      0  \n",
              "1                  1  Glaucomatous      0  \n",
              "2                  1  Glaucomatous      0  \n",
              "3                  1  Glaucomatous      0  \n",
              "4                  1  Glaucomatous      0  "
            ],
            "text/html": [
              "\n",
              "  <div id=\"df-0ae13104-b92f-432e-b7ee-50a447207a83\">\n",
              "    <div class=\"colab-df-container\">\n",
              "      <div>\n",
              "<style scoped>\n",
              "    .dataframe tbody tr th:only-of-type {\n",
              "        vertical-align: middle;\n",
              "    }\n",
              "\n",
              "    .dataframe tbody tr th {\n",
              "        vertical-align: top;\n",
              "    }\n",
              "\n",
              "    .dataframe thead th {\n",
              "        text-align: right;\n",
              "    }\n",
              "</style>\n",
              "<table border=\"1\" class=\"dataframe\">\n",
              "  <thead>\n",
              "    <tr style=\"text-align: right;\">\n",
              "      <th></th>\n",
              "      <th>Drishti-GS File</th>\n",
              "      <th>Patient ID</th>\n",
              "      <th>Marking 1</th>\n",
              "      <th>Marking 2</th>\n",
              "      <th>Marking 3</th>\n",
              "      <th>Marking 4</th>\n",
              "      <th>Additional Expert</th>\n",
              "      <th>Total</th>\n",
              "      <th>label</th>\n",
              "    </tr>\n",
              "  </thead>\n",
              "  <tbody>\n",
              "    <tr>\n",
              "      <th>0</th>\n",
              "      <td>drishtiGS_001</td>\n",
              "      <td>1077987</td>\n",
              "      <td>-1</td>\n",
              "      <td>-1</td>\n",
              "      <td>1</td>\n",
              "      <td>1</td>\n",
              "      <td>1</td>\n",
              "      <td>Glaucomatous</td>\n",
              "      <td>0</td>\n",
              "    </tr>\n",
              "    <tr>\n",
              "      <th>1</th>\n",
              "      <td>drishtiGS_002</td>\n",
              "      <td>1167573</td>\n",
              "      <td>1</td>\n",
              "      <td>1</td>\n",
              "      <td>1</td>\n",
              "      <td>1</td>\n",
              "      <td>1</td>\n",
              "      <td>Glaucomatous</td>\n",
              "      <td>0</td>\n",
              "    </tr>\n",
              "    <tr>\n",
              "      <th>2</th>\n",
              "      <td>drishtiGS_003</td>\n",
              "      <td>1393265</td>\n",
              "      <td>1</td>\n",
              "      <td>1</td>\n",
              "      <td>1</td>\n",
              "      <td>1</td>\n",
              "      <td>1</td>\n",
              "      <td>Glaucomatous</td>\n",
              "      <td>0</td>\n",
              "    </tr>\n",
              "    <tr>\n",
              "      <th>3</th>\n",
              "      <td>drishtiGS_004</td>\n",
              "      <td>1393265</td>\n",
              "      <td>1</td>\n",
              "      <td>1</td>\n",
              "      <td>-1</td>\n",
              "      <td>1</td>\n",
              "      <td>1</td>\n",
              "      <td>Glaucomatous</td>\n",
              "      <td>0</td>\n",
              "    </tr>\n",
              "    <tr>\n",
              "      <th>4</th>\n",
              "      <td>drishtiGS_005</td>\n",
              "      <td>1481925</td>\n",
              "      <td>1</td>\n",
              "      <td>1</td>\n",
              "      <td>1</td>\n",
              "      <td>1</td>\n",
              "      <td>1</td>\n",
              "      <td>Glaucomatous</td>\n",
              "      <td>0</td>\n",
              "    </tr>\n",
              "  </tbody>\n",
              "</table>\n",
              "</div>\n",
              "      <button class=\"colab-df-convert\" onclick=\"convertToInteractive('df-0ae13104-b92f-432e-b7ee-50a447207a83')\"\n",
              "              title=\"Convert this dataframe to an interactive table.\"\n",
              "              style=\"display:none;\">\n",
              "        \n",
              "  <svg xmlns=\"http://www.w3.org/2000/svg\" height=\"24px\"viewBox=\"0 0 24 24\"\n",
              "       width=\"24px\">\n",
              "    <path d=\"M0 0h24v24H0V0z\" fill=\"none\"/>\n",
              "    <path d=\"M18.56 5.44l.94 2.06.94-2.06 2.06-.94-2.06-.94-.94-2.06-.94 2.06-2.06.94zm-11 1L8.5 8.5l.94-2.06 2.06-.94-2.06-.94L8.5 2.5l-.94 2.06-2.06.94zm10 10l.94 2.06.94-2.06 2.06-.94-2.06-.94-.94-2.06-.94 2.06-2.06.94z\"/><path d=\"M17.41 7.96l-1.37-1.37c-.4-.4-.92-.59-1.43-.59-.52 0-1.04.2-1.43.59L10.3 9.45l-7.72 7.72c-.78.78-.78 2.05 0 2.83L4 21.41c.39.39.9.59 1.41.59.51 0 1.02-.2 1.41-.59l7.78-7.78 2.81-2.81c.8-.78.8-2.07 0-2.86zM5.41 20L4 18.59l7.72-7.72 1.47 1.35L5.41 20z\"/>\n",
              "  </svg>\n",
              "      </button>\n",
              "      \n",
              "  <style>\n",
              "    .colab-df-container {\n",
              "      display:flex;\n",
              "      flex-wrap:wrap;\n",
              "      gap: 12px;\n",
              "    }\n",
              "\n",
              "    .colab-df-convert {\n",
              "      background-color: #E8F0FE;\n",
              "      border: none;\n",
              "      border-radius: 50%;\n",
              "      cursor: pointer;\n",
              "      display: none;\n",
              "      fill: #1967D2;\n",
              "      height: 32px;\n",
              "      padding: 0 0 0 0;\n",
              "      width: 32px;\n",
              "    }\n",
              "\n",
              "    .colab-df-convert:hover {\n",
              "      background-color: #E2EBFA;\n",
              "      box-shadow: 0px 1px 2px rgba(60, 64, 67, 0.3), 0px 1px 3px 1px rgba(60, 64, 67, 0.15);\n",
              "      fill: #174EA6;\n",
              "    }\n",
              "\n",
              "    [theme=dark] .colab-df-convert {\n",
              "      background-color: #3B4455;\n",
              "      fill: #D2E3FC;\n",
              "    }\n",
              "\n",
              "    [theme=dark] .colab-df-convert:hover {\n",
              "      background-color: #434B5C;\n",
              "      box-shadow: 0px 1px 3px 1px rgba(0, 0, 0, 0.15);\n",
              "      filter: drop-shadow(0px 1px 2px rgba(0, 0, 0, 0.3));\n",
              "      fill: #FFFFFF;\n",
              "    }\n",
              "  </style>\n",
              "\n",
              "      <script>\n",
              "        const buttonEl =\n",
              "          document.querySelector('#df-0ae13104-b92f-432e-b7ee-50a447207a83 button.colab-df-convert');\n",
              "        buttonEl.style.display =\n",
              "          google.colab.kernel.accessAllowed ? 'block' : 'none';\n",
              "\n",
              "        async function convertToInteractive(key) {\n",
              "          const element = document.querySelector('#df-0ae13104-b92f-432e-b7ee-50a447207a83');\n",
              "          const dataTable =\n",
              "            await google.colab.kernel.invokeFunction('convertToInteractive',\n",
              "                                                     [key], {});\n",
              "          if (!dataTable) return;\n",
              "\n",
              "          const docLinkHtml = 'Like what you see? Visit the ' +\n",
              "            '<a target=\"_blank\" href=https://colab.research.google.com/notebooks/data_table.ipynb>data table notebook</a>'\n",
              "            + ' to learn more about interactive tables.';\n",
              "          element.innerHTML = '';\n",
              "          dataTable['output_type'] = 'display_data';\n",
              "          await google.colab.output.renderOutput(dataTable, element);\n",
              "          const docLink = document.createElement('div');\n",
              "          docLink.innerHTML = docLinkHtml;\n",
              "          element.appendChild(docLink);\n",
              "        }\n",
              "      </script>\n",
              "    </div>\n",
              "  </div>\n",
              "  "
            ]
          },
          "metadata": {},
          "execution_count": 7
        }
      ]
    },
    {
      "cell_type": "code",
      "source": [
        "glaucoma_data.shape"
      ],
      "metadata": {
        "colab": {
          "base_uri": "https://localhost:8080/"
        },
        "id": "i6RoenrFEwuG",
        "outputId": "233a8e77-2de6-41ef-a895-50dba62a1a76"
      },
      "execution_count": null,
      "outputs": [
        {
          "output_type": "execute_result",
          "data": {
            "text/plain": [
              "(101, 9)"
            ]
          },
          "metadata": {},
          "execution_count": 8
        }
      ]
    },
    {
      "cell_type": "code",
      "source": [
        "plt.hist(glaucoma_data['label'],label='label')\n",
        "plt.legend()"
      ],
      "metadata": {
        "colab": {
          "base_uri": "https://localhost:8080/",
          "height": 282
        },
        "id": "mXDhI1bfFWE4",
        "outputId": "6abd9f9d-ec1b-4545-fb43-0ffe34f1baf3"
      },
      "execution_count": null,
      "outputs": [
        {
          "output_type": "execute_result",
          "data": {
            "text/plain": [
              "<matplotlib.legend.Legend at 0x7f076586f0d0>"
            ]
          },
          "metadata": {},
          "execution_count": 9
        },
        {
          "output_type": "display_data",
          "data": {
            "text/plain": [
              "<Figure size 432x288 with 1 Axes>"
            ],
            "image/png": "[encoded data removed]"
          },
          "metadata": {
            "needs_background": "light"
          }
        }
      ]
    },
    {
      "cell_type": "code",
      "source": [
        "fig = plt.figure(figsize=(12,8))\n",
        "\n",
        "ax1 = fig.add_subplot(221)\n",
        "glaucoma_data['Total'].value_counts().plot(kind='bar', ax=ax1)\n",
        "ax1.set_ylabel('Count')\n",
        "ax1.set_title('Cell Type');"
      ],
      "metadata": {
        "colab": {
          "base_uri": "https://localhost:8080/",
          "height": 323
        },
        "id": "a4oM2Je_FjmO",
        "outputId": "3ce0131e-0984-4012-a6a3-624beb6dcc8a"
      },
      "execution_count": null,
      "outputs": [
        {
          "output_type": "display_data",
          "data": {
            "text/plain": [
              "<Figure size 864x576 with 1 Axes>"
            ],
            "image/png": "[encoded data removed]"
          },
          "metadata": {
            "needs_background": "light"
          }
        }
      ]
    },
    {
      "cell_type": "code",
      "source": [
        "from sklearn.utils import resample"
      ],
      "metadata": {
        "id": "XOCWqprTF6eH"
      },
      "execution_count": null,
      "outputs": []
    },
    {
      "cell_type": "code",
      "source": [
        "print(glaucoma_data['label'].value_counts())"
      ],
      "metadata": {
        "colab": {
          "base_uri": "https://localhost:8080/"
        },
        "id": "rCrcxyIBGDbA",
        "outputId": "100d1a57-7f44-46b6-ec6d-6acaf300bd61"
      },
      "execution_count": null,
      "outputs": [
        {
          "output_type": "stream",
          "name": "stdout",
          "text": [
            "0    70\n",
            "1    31\n",
            "Name: label, dtype: int64\n"
          ]
        }
      ]
    },
    {
      "cell_type": "code",
      "source": [
        "df_0 = glaucoma_data[glaucoma_data['label']==0]\n",
        "df_1 = glaucoma_data[glaucoma_data['label']==1]"
      ],
      "metadata": {
        "id": "mQb3HL4mGKn6"
      },
      "execution_count": null,
      "outputs": []
    },
    {
      "cell_type": "code",
      "source": [
        "df_0.shape"
      ],
      "metadata": {
        "colab": {
          "base_uri": "https://localhost:8080/"
        },
        "id": "xFb2lesLGXEY",
        "outputId": "35e08222-6976-43c1-cfc6-8c50cf60ba5f"
      },
      "execution_count": null,
      "outputs": [
        {
          "output_type": "execute_result",
          "data": {
            "text/plain": [
              "(70, 9)"
            ]
          },
          "metadata": {},
          "execution_count": 14
        }
      ]
    },
    {
      "cell_type": "code",
      "source": [
        "n_samples=400"
      ],
      "metadata": {
        "id": "Gy61SUYAGdsR"
      },
      "execution_count": null,
      "outputs": []
    },
    {
      "cell_type": "code",
      "source": [
        "df_0_balanced = resample(df_0, replace=True, n_samples=n_samples, random_state=42)\n",
        "df_1_balanced = resample(df_1, replace=True, n_samples=n_samples, random_state=42)"
      ],
      "metadata": {
        "id": "T7bM6RanGiDs"
      },
      "execution_count": null,
      "outputs": []
    },
    {
      "cell_type": "code",
      "source": [
        "df_0_balanced.shape"
      ],
      "metadata": {
        "colab": {
          "base_uri": "https://localhost:8080/"
        },
        "id": "_dIwBmnMGkLf",
        "outputId": "775e39f3-abf0-4f28-d302-9f7766db8320"
      },
      "execution_count": null,
      "outputs": [
        {
          "output_type": "execute_result",
          "data": {
            "text/plain": [
              "(400, 9)"
            ]
          },
          "metadata": {},
          "execution_count": 17
        }
      ]
    },
    {
      "cell_type": "code",
      "source": [
        "data_glaucoma_balanced = pd.concat([df_0_balanced,df_1_balanced,])"
      ],
      "metadata": {
        "id": "a3BKC2FQGzpb"
      },
      "execution_count": null,
      "outputs": []
    },
    {
      "cell_type": "code",
      "source": [
        "data_glaucoma_balanced.shape"
      ],
      "metadata": {
        "colab": {
          "base_uri": "https://localhost:8080/"
        },
        "id": "BFGtxvtKG6rP",
        "outputId": "63c192d8-f4bb-4a4e-d38f-f8b567a676a5"
      },
      "execution_count": null,
      "outputs": [
        {
          "output_type": "execute_result",
          "data": {
            "text/plain": [
              "(800, 9)"
            ]
          },
          "metadata": {},
          "execution_count": 19
        }
      ]
    },
    {
      "cell_type": "code",
      "source": [
        "print(data_glaucoma_balanced['label'].value_counts())"
      ],
      "metadata": {
        "colab": {
          "base_uri": "https://localhost:8080/"
        },
        "id": "Sy2lKNwHG9-o",
        "outputId": "67222bdf-e404-4f1a-d9c1-50bae91447c2"
      },
      "execution_count": null,
      "outputs": [
        {
          "output_type": "stream",
          "name": "stdout",
          "text": [
            "0    400\n",
            "1    400\n",
            "Name: label, dtype: int64\n"
          ]
        }
      ]
    },
    {
      "cell_type": "code",
      "source": [
        "images_path = {os.path.splitext(os.path.basename(x))[0]: x\n",
        "               for x in glob(os.path.join('/content/gdrive/MyDrive/Drishti-GS1/','*','*.png'))}"
      ],
      "metadata": {
        "id": "CWCIpkblHGIi"
      },
      "execution_count": null,
      "outputs": []
    },
    {
      "cell_type": "code",
      "source": [
        "print(images_path)"
      ],
      "metadata": {
        "colab": {
          "base_uri": "https://localhost:8080/"
        },
        "id": "AbwkNHAZHeDc",
        "outputId": "b3907c9e-bb0e-4e3e-9700-dd8c3621def0"
      },
      "execution_count": null,
      "outputs": [
        {
          "output_type": "stream",
          "name": "stdout",
          "text": [
            "{'drishtiGS_002': '/content/gdrive/MyDrive/Drishti-GS1/images/drishtiGS_002.png', 'drishtiGS_004': '/content/gdrive/MyDrive/Drishti-GS1/images/drishtiGS_004.png', 'drishtiGS_008': '/content/gdrive/MyDrive/Drishti-GS1/images/drishtiGS_008.png', 'drishtiGS_010': '/content/gdrive/MyDrive/Drishti-GS1/images/drishtiGS_010.png', 'drishtiGS_012': '/content/gdrive/MyDrive/Drishti-GS1/images/drishtiGS_012.png', 'drishtiGS_015': '/content/gdrive/MyDrive/Drishti-GS1/images/drishtiGS_015.png', 'drishtiGS_016': '/content/gdrive/MyDrive/Drishti-GS1/images/drishtiGS_016.png', 'drishtiGS_017': '/content/gdrive/MyDrive/Drishti-GS1/images/drishtiGS_017.png', 'drishtiGS_018': '/content/gdrive/MyDrive/Drishti-GS1/images/drishtiGS_018.png', 'drishtiGS_022': '/content/gdrive/MyDrive/Drishti-GS1/images/drishtiGS_022.png', 'drishtiGS_024': '/content/gdrive/MyDrive/Drishti-GS1/images/drishtiGS_024.png', 'drishtiGS_026': '/content/gdrive/MyDrive/Drishti-GS1/images/drishtiGS_026.png', 'drishtiGS_031': '/content/gdrive/MyDrive/Drishti-GS1/images/drishtiGS_031.png', 'drishtiGS_032': '/content/gdrive/MyDrive/Drishti-GS1/images/drishtiGS_032.png', 'drishtiGS_033': '/content/gdrive/MyDrive/Drishti-GS1/images/drishtiGS_033.png', 'drishtiGS_035': '/content/gdrive/MyDrive/Drishti-GS1/images/drishtiGS_035.png', 'drishtiGS_036': '/content/gdrive/MyDrive/Drishti-GS1/images/drishtiGS_036.png', 'drishtiGS_037': '/content/gdrive/MyDrive/Drishti-GS1/images/drishtiGS_037.png', 'drishtiGS_038': '/content/gdrive/MyDrive/Drishti-GS1/images/drishtiGS_038.png', 'drishtiGS_040': '/content/gdrive/MyDrive/Drishti-GS1/images/drishtiGS_040.png', 'drishtiGS_041': '/content/gdrive/MyDrive/Drishti-GS1/images/drishtiGS_041.png', 'drishtiGS_042': '/content/gdrive/MyDrive/Drishti-GS1/images/drishtiGS_042.png', 'drishtiGS_044': '/content/gdrive/MyDrive/Drishti-GS1/images/drishtiGS_044.png', 'drishtiGS_045': '/content/gdrive/MyDrive/Drishti-GS1/images/drishtiGS_045.png', 'drishtiGS_046': '/content/gdrive/MyDrive/Drishti-GS1/images/drishtiGS_046.png', 'drishtiGS_047': '/content/gdrive/MyDrive/Drishti-GS1/images/drishtiGS_047.png', 'drishtiGS_049': '/content/gdrive/MyDrive/Drishti-GS1/images/drishtiGS_049.png', 'drishtiGS_051': '/content/gdrive/MyDrive/Drishti-GS1/images/drishtiGS_051.png', 'drishtiGS_057': '/content/gdrive/MyDrive/Drishti-GS1/images/drishtiGS_057.png', 'drishtiGS_058': '/content/gdrive/MyDrive/Drishti-GS1/images/drishtiGS_058.png', 'drishtiGS_060': '/content/gdrive/MyDrive/Drishti-GS1/images/drishtiGS_060.png', 'drishtiGS_061': '/content/gdrive/MyDrive/Drishti-GS1/images/drishtiGS_061.png', 'drishtiGS_062': '/content/gdrive/MyDrive/Drishti-GS1/images/drishtiGS_062.png', 'drishtiGS_063': '/content/gdrive/MyDrive/Drishti-GS1/images/drishtiGS_063.png', 'drishtiGS_064': '/content/gdrive/MyDrive/Drishti-GS1/images/drishtiGS_064.png', 'drishtiGS_066': '/content/gdrive/MyDrive/Drishti-GS1/images/drishtiGS_066.png', 'drishtiGS_068': '/content/gdrive/MyDrive/Drishti-GS1/images/drishtiGS_068.png', 'drishtiGS_069': '/content/gdrive/MyDrive/Drishti-GS1/images/drishtiGS_069.png', 'drishtiGS_075': '/content/gdrive/MyDrive/Drishti-GS1/images/drishtiGS_075.png', 'drishtiGS_076': '/content/gdrive/MyDrive/Drishti-GS1/images/drishtiGS_076.png', 'drishtiGS_080': '/content/gdrive/MyDrive/Drishti-GS1/images/drishtiGS_080.png', 'drishtiGS_081': '/content/gdrive/MyDrive/Drishti-GS1/images/drishtiGS_081.png', 'drishtiGS_084': '/content/gdrive/MyDrive/Drishti-GS1/images/drishtiGS_084.png', 'drishtiGS_088': '/content/gdrive/MyDrive/Drishti-GS1/images/drishtiGS_088.png', 'drishtiGS_089': '/content/gdrive/MyDrive/Drishti-GS1/images/drishtiGS_089.png', 'drishtiGS_090': '/content/gdrive/MyDrive/Drishti-GS1/images/drishtiGS_090.png', 'drishtiGS_092': '/content/gdrive/MyDrive/Drishti-GS1/images/drishtiGS_092.png', 'drishtiGS_094': '/content/gdrive/MyDrive/Drishti-GS1/images/drishtiGS_094.png', 'drishtiGS_098': '/content/gdrive/MyDrive/Drishti-GS1/images/drishtiGS_098.png', 'drishtiGS_101': '/content/gdrive/MyDrive/Drishti-GS1/images/drishtiGS_101.png', 'drishtiGS_025': '/content/gdrive/MyDrive/Drishti-GS1/images/drishtiGS_025.png', 'drishtiGS_020': '/content/gdrive/MyDrive/Drishti-GS1/images/drishtiGS_020.png', 'drishtiGS_019': '/content/gdrive/MyDrive/Drishti-GS1/images/drishtiGS_019.png', 'drishtiGS_005': '/content/gdrive/MyDrive/Drishti-GS1/images/drishtiGS_005.png', 'drishtiGS_027': '/content/gdrive/MyDrive/Drishti-GS1/images/drishtiGS_027.png', 'drishtiGS_003': '/content/gdrive/MyDrive/Drishti-GS1/images/drishtiGS_003.png', 'drishtiGS_007': '/content/gdrive/MyDrive/Drishti-GS1/images/drishtiGS_007.png', 'drishtiGS_009': '/content/gdrive/MyDrive/Drishti-GS1/images/drishtiGS_009.png', 'drishtiGS_011': '/content/gdrive/MyDrive/Drishti-GS1/images/drishtiGS_011.png', 'drishtiGS_014': '/content/gdrive/MyDrive/Drishti-GS1/images/drishtiGS_014.png', 'drishtiGS_001': '/content/gdrive/MyDrive/Drishti-GS1/images/drishtiGS_001.png', 'drishtiGS_006': '/content/gdrive/MyDrive/Drishti-GS1/images/drishtiGS_006.png', 'drishtiGS_021': '/content/gdrive/MyDrive/Drishti-GS1/images/drishtiGS_021.png', 'drishtiGS_013': '/content/gdrive/MyDrive/Drishti-GS1/images/drishtiGS_013.png', 'drishtiGS_023': '/content/gdrive/MyDrive/Drishti-GS1/images/drishtiGS_023.png', 'drishtiGS_055': '/content/gdrive/MyDrive/Drishti-GS1/images/drishtiGS_055.png', 'drishtiGS_053': '/content/gdrive/MyDrive/Drishti-GS1/images/drishtiGS_053.png', 'drishtiGS_048': '/content/gdrive/MyDrive/Drishti-GS1/images/drishtiGS_048.png', 'drishtiGS_028': '/content/gdrive/MyDrive/Drishti-GS1/images/drishtiGS_028.png', 'drishtiGS_030': '/content/gdrive/MyDrive/Drishti-GS1/images/drishtiGS_030.png', 'drishtiGS_050': '/content/gdrive/MyDrive/Drishti-GS1/images/drishtiGS_050.png', 'drishtiGS_029': '/content/gdrive/MyDrive/Drishti-GS1/images/drishtiGS_029.png', 'drishtiGS_054': '/content/gdrive/MyDrive/Drishti-GS1/images/drishtiGS_054.png', 'drishtiGS_034': '/content/gdrive/MyDrive/Drishti-GS1/images/drishtiGS_034.png', 'drishtiGS_043': '/content/gdrive/MyDrive/Drishti-GS1/images/drishtiGS_043.png', 'drishtiGS_039': '/content/gdrive/MyDrive/Drishti-GS1/images/drishtiGS_039.png', 'drishtiGS_052': '/content/gdrive/MyDrive/Drishti-GS1/images/drishtiGS_052.png', 'drishtiGS_070': '/content/gdrive/MyDrive/Drishti-GS1/images/drishtiGS_070.png', 'drishtiGS_082': '/content/gdrive/MyDrive/Drishti-GS1/images/drishtiGS_082.png', 'drishtiGS_067': '/content/gdrive/MyDrive/Drishti-GS1/images/drishtiGS_067.png', 'drishtiGS_091': '/content/gdrive/MyDrive/Drishti-GS1/images/drishtiGS_091.png', 'drishtiGS_085': '/content/gdrive/MyDrive/Drishti-GS1/images/drishtiGS_085.png', 'drishtiGS_083': '/content/gdrive/MyDrive/Drishti-GS1/images/drishtiGS_083.png', 'drishtiGS_072': '/content/gdrive/MyDrive/Drishti-GS1/images/drishtiGS_072.png', 'drishtiGS_078': '/content/gdrive/MyDrive/Drishti-GS1/images/drishtiGS_078.png', 'drishtiGS_077': '/content/gdrive/MyDrive/Drishti-GS1/images/drishtiGS_077.png', 'drishtiGS_073': '/content/gdrive/MyDrive/Drishti-GS1/images/drishtiGS_073.png', 'drishtiGS_095': '/content/gdrive/MyDrive/Drishti-GS1/images/drishtiGS_095.png', 'drishtiGS_059': '/content/gdrive/MyDrive/Drishti-GS1/images/drishtiGS_059.png', 'drishtiGS_093': '/content/gdrive/MyDrive/Drishti-GS1/images/drishtiGS_093.png', 'drishtiGS_065': '/content/gdrive/MyDrive/Drishti-GS1/images/drishtiGS_065.png', 'drishtiGS_086': '/content/gdrive/MyDrive/Drishti-GS1/images/drishtiGS_086.png', 'drishtiGS_056': '/content/gdrive/MyDrive/Drishti-GS1/images/drishtiGS_056.png', 'drishtiGS_079': '/content/gdrive/MyDrive/Drishti-GS1/images/drishtiGS_079.png', 'drishtiGS_096': '/content/gdrive/MyDrive/Drishti-GS1/images/drishtiGS_096.png', 'drishtiGS_071': '/content/gdrive/MyDrive/Drishti-GS1/images/drishtiGS_071.png', 'drishtiGS_074': '/content/gdrive/MyDrive/Drishti-GS1/images/drishtiGS_074.png', 'drishtiGS_087': '/content/gdrive/MyDrive/Drishti-GS1/images/drishtiGS_087.png', 'drishtiGS_100': '/content/gdrive/MyDrive/Drishti-GS1/images/drishtiGS_100.png', 'drishtiGS_097': '/content/gdrive/MyDrive/Drishti-GS1/images/drishtiGS_097.png', 'drishtiGS_099': '/content/gdrive/MyDrive/Drishti-GS1/images/drishtiGS_099.png'}\n"
          ]
        }
      ]
    },
    {
      "cell_type": "code",
      "source": [
        "data_glaucoma_balanced['path'] = glaucoma_data['Drishti-GS File'].map(images_path.get)"
      ],
      "metadata": {
        "id": "KPU11bNqH6kP"
      },
      "execution_count": null,
      "outputs": []
    },
    {
      "cell_type": "code",
      "source": [
        "data_glaucoma_balanced.head()"
      ],
      "metadata": {
        "colab": {
          "base_uri": "https://localhost:8080/",
          "height": 354
        },
        "id": "r06ZsQUlIPSp",
        "outputId": "0d313f16-3d5b-4a75-f30c-8c1c0d6b7bee"
      },
      "execution_count": null,
      "outputs": [
        {
          "output_type": "execute_result",
          "data": {
            "text/plain": [
              "   Drishti-GS File  Patient ID  Marking 1  Marking 2  Marking 3  Marking 4  \\\n",
              "66   drishtiGS_067     2737392          1         -1          1          1   \n",
              "20   drishtiGS_021     2040729          1          1          1          1   \n",
              "76   drishtiGS_077     2804213          1         -1          1          1   \n",
              "26   drishtiGS_027     2248277          1          1          1          1   \n",
              "29   drishtiGS_030     2292498         -1          1          1          1   \n",
              "\n",
              "    Additional Expert         Total  label  \\\n",
              "66                 -1  Glaucomatous      0   \n",
              "20                  1  Glaucomatous      0   \n",
              "76                 -1  Glaucomatous      0   \n",
              "26                 -1  Glaucomatous      0   \n",
              "29                  1  Glaucomatous      0   \n",
              "\n",
              "                                                 path  \n",
              "66  /content/gdrive/MyDrive/Drishti-GS1/images/dri...  \n",
              "20  /content/gdrive/MyDrive/Drishti-GS1/images/dri...  \n",
              "76  /content/gdrive/MyDrive/Drishti-GS1/images/dri...  \n",
              "26  /content/gdrive/MyDrive/Drishti-GS1/images/dri...  \n",
              "29  /content/gdrive/MyDrive/Drishti-GS1/images/dri...  "
            ],
            "text/html": [
              "\n",
              "  <div id=\"df-10ee4763-cc5f-4027-b296-7fa1094da8db\">\n",
              "    <div class=\"colab-df-container\">\n",
              "      <div>\n",
              "<style scoped>\n",
              "    .dataframe tbody tr th:only-of-type {\n",
              "        vertical-align: middle;\n",
              "    }\n",
              "\n",
              "    .dataframe tbody tr th {\n",
              "        vertical-align: top;\n",
              "    }\n",
              "\n",
              "    .dataframe thead th {\n",
              "        text-align: right;\n",
              "    }\n",
              "</style>\n",
              "<table border=\"1\" class=\"dataframe\">\n",
              "  <thead>\n",
              "    <tr style=\"text-align: right;\">\n",
              "      <th></th>\n",
              "      <th>Drishti-GS File</th>\n",
              "      <th>Patient ID</th>\n",
              "      <th>Marking 1</th>\n",
              "      <th>Marking 2</th>\n",
              "      <th>Marking 3</th>\n",
              "      <th>Marking 4</th>\n",
              "      <th>Additional Expert</th>\n",
              "      <th>Total</th>\n",
              "      <th>label</th>\n",
              "      <th>path</th>\n",
              "    </tr>\n",
              "  </thead>\n",
              "  <tbody>\n",
              "    <tr>\n",
              "      <th>66</th>\n",
              "      <td>drishtiGS_067</td>\n",
              "      <td>2737392</td>\n",
              "      <td>1</td>\n",
              "      <td>-1</td>\n",
              "      <td>1</td>\n",
              "      <td>1</td>\n",
              "      <td>-1</td>\n",
              "      <td>Glaucomatous</td>\n",
              "      <td>0</td>\n",
              "      <td>/content/gdrive/MyDrive/Drishti-GS1/images/dri...</td>\n",
              "    </tr>\n",
              "    <tr>\n",
              "      <th>20</th>\n",
              "      <td>drishtiGS_021</td>\n",
              "      <td>2040729</td>\n",
              "      <td>1</td>\n",
              "      <td>1</td>\n",
              "      <td>1</td>\n",
              "      <td>1</td>\n",
              "      <td>1</td>\n",
              "      <td>Glaucomatous</td>\n",
              "      <td>0</td>\n",
              "      <td>/content/gdrive/MyDrive/Drishti-GS1/images/dri...</td>\n",
              "    </tr>\n",
              "    <tr>\n",
              "      <th>76</th>\n",
              "      <td>drishtiGS_077</td>\n",
              "      <td>2804213</td>\n",
              "      <td>1</td>\n",
              "      <td>-1</td>\n",
              "      <td>1</td>\n",
              "      <td>1</td>\n",
              "      <td>-1</td>\n",
              "      <td>Glaucomatous</td>\n",
              "      <td>0</td>\n",
              "      <td>/content/gdrive/MyDrive/Drishti-GS1/images/dri...</td>\n",
              "    </tr>\n",
              "    <tr>\n",
              "      <th>26</th>\n",
              "      <td>drishtiGS_027</td>\n",
              "      <td>2248277</td>\n",
              "      <td>1</td>\n",
              "      <td>1</td>\n",
              "      <td>1</td>\n",
              "      <td>1</td>\n",
              "      <td>-1</td>\n",
              "      <td>Glaucomatous</td>\n",
              "      <td>0</td>\n",
              "      <td>/content/gdrive/MyDrive/Drishti-GS1/images/dri...</td>\n",
              "    </tr>\n",
              "    <tr>\n",
              "      <th>29</th>\n",
              "      <td>drishtiGS_030</td>\n",
              "      <td>2292498</td>\n",
              "      <td>-1</td>\n",
              "      <td>1</td>\n",
              "      <td>1</td>\n",
              "      <td>1</td>\n",
              "      <td>1</td>\n",
              "      <td>Glaucomatous</td>\n",
              "      <td>0</td>\n",
              "      <td>/content/gdrive/MyDrive/Drishti-GS1/images/dri...</td>\n",
              "    </tr>\n",
              "  </tbody>\n",
              "</table>\n",
              "</div>\n",
              "      <button class=\"colab-df-convert\" onclick=\"convertToInteractive('df-10ee4763-cc5f-4027-b296-7fa1094da8db')\"\n",
              "              title=\"Convert this dataframe to an interactive table.\"\n",
              "              style=\"display:none;\">\n",
              "        \n",
              "  <svg xmlns=\"http://www.w3.org/2000/svg\" height=\"24px\"viewBox=\"0 0 24 24\"\n",
              "       width=\"24px\">\n",
              "    <path d=\"M0 0h24v24H0V0z\" fill=\"none\"/>\n",
              "    <path d=\"M18.56 5.44l.94 2.06.94-2.06 2.06-.94-2.06-.94-.94-2.06-.94 2.06-2.06.94zm-11 1L8.5 8.5l.94-2.06 2.06-.94-2.06-.94L8.5 2.5l-.94 2.06-2.06.94zm10 10l.94 2.06.94-2.06 2.06-.94-2.06-.94-.94-2.06-.94 2.06-2.06.94z\"/><path d=\"M17.41 7.96l-1.37-1.37c-.4-.4-.92-.59-1.43-.59-.52 0-1.04.2-1.43.59L10.3 9.45l-7.72 7.72c-.78.78-.78 2.05 0 2.83L4 21.41c.39.39.9.59 1.41.59.51 0 1.02-.2 1.41-.59l7.78-7.78 2.81-2.81c.8-.78.8-2.07 0-2.86zM5.41 20L4 18.59l7.72-7.72 1.47 1.35L5.41 20z\"/>\n",
              "  </svg>\n",
              "      </button>\n",
              "      \n",
              "  <style>\n",
              "    .colab-df-container {\n",
              "      display:flex;\n",
              "      flex-wrap:wrap;\n",
              "      gap: 12px;\n",
              "    }\n",
              "\n",
              "    .colab-df-convert {\n",
              "      background-color: #E8F0FE;\n",
              "      border: none;\n",
              "      border-radius: 50%;\n",
              "      cursor: pointer;\n",
              "      display: none;\n",
              "      fill: #1967D2;\n",
              "      height: 32px;\n",
              "      padding: 0 0 0 0;\n",
              "      width: 32px;\n",
              "    }\n",
              "\n",
              "    .colab-df-convert:hover {\n",
              "      background-color: #E2EBFA;\n",
              "      box-shadow: 0px 1px 2px rgba(60, 64, 67, 0.3), 0px 1px 3px 1px rgba(60, 64, 67, 0.15);\n",
              "      fill: #174EA6;\n",
              "    }\n",
              "\n",
              "    [theme=dark] .colab-df-convert {\n",
              "      background-color: #3B4455;\n",
              "      fill: #D2E3FC;\n",
              "    }\n",
              "\n",
              "    [theme=dark] .colab-df-convert:hover {\n",
              "      background-color: #434B5C;\n",
              "      box-shadow: 0px 1px 3px 1px rgba(0, 0, 0, 0.15);\n",
              "      filter: drop-shadow(0px 1px 2px rgba(0, 0, 0, 0.3));\n",
              "      fill: #FFFFFF;\n",
              "    }\n",
              "  </style>\n",
              "\n",
              "      <script>\n",
              "        const buttonEl =\n",
              "          document.querySelector('#df-10ee4763-cc5f-4027-b296-7fa1094da8db button.colab-df-convert');\n",
              "        buttonEl.style.display =\n",
              "          google.colab.kernel.accessAllowed ? 'block' : 'none';\n",
              "\n",
              "        async function convertToInteractive(key) {\n",
              "          const element = document.querySelector('#df-10ee4763-cc5f-4027-b296-7fa1094da8db');\n",
              "          const dataTable =\n",
              "            await google.colab.kernel.invokeFunction('convertToInteractive',\n",
              "                                                     [key], {});\n",
              "          if (!dataTable) return;\n",
              "\n",
              "          const docLinkHtml = 'Like what you see? Visit the ' +\n",
              "            '<a target=\"_blank\" href=https://colab.research.google.com/notebooks/data_table.ipynb>data table notebook</a>'\n",
              "            + ' to learn more about interactive tables.';\n",
              "          element.innerHTML = '';\n",
              "          dataTable['output_type'] = 'display_data';\n",
              "          await google.colab.output.renderOutput(dataTable, element);\n",
              "          const docLink = document.createElement('div');\n",
              "          docLink.innerHTML = docLinkHtml;\n",
              "          element.appendChild(docLink);\n",
              "        }\n",
              "      </script>\n",
              "    </div>\n",
              "  </div>\n",
              "  "
            ]
          },
          "metadata": {},
          "execution_count": 24
        }
      ]
    },
    {
      "cell_type": "code",
      "source": [
        "size=128"
      ],
      "metadata": {
        "id": "DCmbKb4VKbz8"
      },
      "execution_count": null,
      "outputs": []
    },
    {
      "cell_type": "code",
      "source": [
        "data_glaucoma_balanced['image'] = data_glaucoma_balanced['path'].map(lambda x: np.asarray(Image.open(x).resize((size,size))))"
      ],
      "metadata": {
        "id": "tzDKhawsKJXm"
      },
      "execution_count": null,
      "outputs": []
    },
    {
      "cell_type": "code",
      "source": [
        "data_glaucoma_balanced.head()"
      ],
      "metadata": {
        "colab": {
          "base_uri": "https://localhost:8080/",
          "height": 808
        },
        "id": "_JJZFdjiMC5V",
        "outputId": "0ee51554-4d77-48e0-fdfc-a2749e5d4c1d"
      },
      "execution_count": null,
      "outputs": [
        {
          "output_type": "execute_result",
          "data": {
            "text/plain": [
              "   Drishti-GS File  Patient ID  Marking 1  Marking 2  Marking 3  Marking 4  \\\n",
              "66   drishtiGS_067     2737392          1         -1          1          1   \n",
              "20   drishtiGS_021     2040729          1          1          1          1   \n",
              "76   drishtiGS_077     2804213          1         -1          1          1   \n",
              "26   drishtiGS_027     2248277          1          1          1          1   \n",
              "29   drishtiGS_030     2292498         -1          1          1          1   \n",
              "\n",
              "    Additional Expert         Total  label  \\\n",
              "66                 -1  Glaucomatous      0   \n",
              "20                  1  Glaucomatous      0   \n",
              "76                 -1  Glaucomatous      0   \n",
              "26                 -1  Glaucomatous      0   \n",
              "29                  1  Glaucomatous      0   \n",
              "\n",
              "                                                 path  \\\n",
              "66  /content/gdrive/MyDrive/Drishti-GS1/images/dri...   \n",
              "20  /content/gdrive/MyDrive/Drishti-GS1/images/dri...   \n",
              "76  /content/gdrive/MyDrive/Drishti-GS1/images/dri...   \n",
              "26  /content/gdrive/MyDrive/Drishti-GS1/images/dri...   \n",
              "29  /content/gdrive/MyDrive/Drishti-GS1/images/dri...   \n",
              "\n",
              "                                                image  \n",
              "66  [[[3, 1, 3], [3, 1, 3], [3, 1, 3], [3, 1, 3], ...  \n",
              "20  [[[3, 1, 3], [3, 1, 3], [3, 1, 3], [3, 1, 3], ...  \n",
              "76  [[[3, 1, 3], [3, 1, 3], [3, 1, 3], [3, 1, 3], ...  \n",
              "26  [[[3, 1, 3], [3, 1, 3], [3, 1, 3], [3, 1, 3], ...  \n",
              "29  [[[3, 1, 3], [3, 1, 3], [3, 1, 3], [3, 1, 3], ...  "
            ],
            "text/html": [
              "\n",
              "  <div id=\"df-861da0c1-6da5-41f5-9840-2955e3bb94c5\">\n",
              "    <div class=\"colab-df-container\">\n",
              "      <div>\n",
              "<style scoped>\n",
              "    .dataframe tbody tr th:only-of-type {\n",
              "        vertical-align: middle;\n",
              "    }\n",
              "\n",
              "    .dataframe tbody tr th {\n",
              "        vertical-align: top;\n",
              "    }\n",
              "\n",
              "    .dataframe thead th {\n",
              "        text-align: right;\n",
              "    }\n",
              "</style>\n",
              "<table border=\"1\" class=\"dataframe\">\n",
              "  <thead>\n",
              "    <tr style=\"text-align: right;\">\n",
              "      <th></th>\n",
              "      <th>Drishti-GS File</th>\n",
              "      <th>Patient ID</th>\n",
              "      <th>Marking 1</th>\n",
              "      <th>Marking 2</th>\n",
              "      <th>Marking 3</th>\n",
              "      <th>Marking 4</th>\n",
              "      <th>Additional Expert</th>\n",
              "      <th>Total</th>\n",
              "      <th>label</th>\n",
              "      <th>path</th>\n",
              "      <th>image</th>\n",
              "    </tr>\n",
              "  </thead>\n",
              "  <tbody>\n",
              "    <tr>\n",
              "      <th>66</th>\n",
              "      <td>drishtiGS_067</td>\n",
              "      <td>2737392</td>\n",
              "      <td>1</td>\n",
              "      <td>-1</td>\n",
              "      <td>1</td>\n",
              "      <td>1</td>\n",
              "      <td>-1</td>\n",
              "      <td>Glaucomatous</td>\n",
              "      <td>0</td>\n",
              "      <td>/content/gdrive/MyDrive/Drishti-GS1/images/dri...</td>\n",
              "      <td>[[[3, 1, 3], [3, 1, 3], [3, 1, 3], [3, 1, 3], ...</td>\n",
              "    </tr>\n",
              "    <tr>\n",
              "      <th>20</th>\n",
              "      <td>drishtiGS_021</td>\n",
              "      <td>2040729</td>\n",
              "      <td>1</td>\n",
              "      <td>1</td>\n",
              "      <td>1</td>\n",
              "      <td>1</td>\n",
              "      <td>1</td>\n",
              "      <td>Glaucomatous</td>\n",
              "      <td>0</td>\n",
              "      <td>/content/gdrive/MyDrive/Drishti-GS1/images/dri...</td>\n",
              "      <td>[[[3, 1, 3], [3, 1, 3], [3, 1, 3], [3, 1, 3], ...</td>\n",
              "    </tr>\n",
              "    <tr>\n",
              "      <th>76</th>\n",
              "      <td>drishtiGS_077</td>\n",
              "      <td>2804213</td>\n",
              "      <td>1</td>\n",
              "      <td>-1</td>\n",
              "      <td>1</td>\n",
              "      <td>1</td>\n",
              "      <td>-1</td>\n",
              "      <td>Glaucomatous</td>\n",
              "      <td>0</td>\n",
              "      <td>/content/gdrive/MyDrive/Drishti-GS1/images/dri...</td>\n",
              "      <td>[[[3, 1, 3], [3, 1, 3], [3, 1, 3], [3, 1, 3], ...</td>\n",
              "    </tr>\n",
              "    <tr>\n",
              "      <th>26</th>\n",
              "      <td>drishtiGS_027</td>\n",
              "      <td>2248277</td>\n",
              "      <td>1</td>\n",
              "      <td>1</td>\n",
              "      <td>1</td>\n",
              "      <td>1</td>\n",
              "      <td>-1</td>\n",
              "      <td>Glaucomatous</td>\n",
              "      <td>0</td>\n",
              "      <td>/content/gdrive/MyDrive/Drishti-GS1/images/dri...</td>\n",
              "      <td>[[[3, 1, 3], [3, 1, 3], [3, 1, 3], [3, 1, 3], ...</td>\n",
              "    </tr>\n",
              "    <tr>\n",
              "      <th>29</th>\n",
              "      <td>drishtiGS_030</td>\n",
              "      <td>2292498</td>\n",
              "      <td>-1</td>\n",
              "      <td>1</td>\n",
              "      <td>1</td>\n",
              "      <td>1</td>\n",
              "      <td>1</td>\n",
              "      <td>Glaucomatous</td>\n",
              "      <td>0</td>\n",
              "      <td>/content/gdrive/MyDrive/Drishti-GS1/images/dri...</td>\n",
              "      <td>[[[3, 1, 3], [3, 1, 3], [3, 1, 3], [3, 1, 3], ...</td>\n",
              "    </tr>\n",
              "  </tbody>\n",
              "</table>\n",
              "</div>\n",
              "      <button class=\"colab-df-convert\" onclick=\"convertToInteractive('df-861da0c1-6da5-41f5-9840-2955e3bb94c5')\"\n",
              "              title=\"Convert this dataframe to an interactive table.\"\n",
              "              style=\"display:none;\">\n",
              "        \n",
              "  <svg xmlns=\"http://www.w3.org/2000/svg\" height=\"24px\"viewBox=\"0 0 24 24\"\n",
              "       width=\"24px\">\n",
              "    <path d=\"M0 0h24v24H0V0z\" fill=\"none\"/>\n",
              "    <path d=\"M18.56 5.44l.94 2.06.94-2.06 2.06-.94-2.06-.94-.94-2.06-.94 2.06-2.06.94zm-11 1L8.5 8.5l.94-2.06 2.06-.94-2.06-.94L8.5 2.5l-.94 2.06-2.06.94zm10 10l.94 2.06.94-2.06 2.06-.94-2.06-.94-.94-2.06-.94 2.06-2.06.94z\"/><path d=\"M17.41 7.96l-1.37-1.37c-.4-.4-.92-.59-1.43-.59-.52 0-1.04.2-1.43.59L10.3 9.45l-7.72 7.72c-.78.78-.78 2.05 0 2.83L4 21.41c.39.39.9.59 1.41.59.51 0 1.02-.2 1.41-.59l7.78-7.78 2.81-2.81c.8-.78.8-2.07 0-2.86zM5.41 20L4 18.59l7.72-7.72 1.47 1.35L5.41 20z\"/>\n",
              "  </svg>\n",
              "      </button>\n",
              "      \n",
              "  <style>\n",
              "    .colab-df-container {\n",
              "      display:flex;\n",
              "      flex-wrap:wrap;\n",
              "      gap: 12px;\n",
              "    }\n",
              "\n",
              "    .colab-df-convert {\n",
              "      background-color: #E8F0FE;\n",
              "      border: none;\n",
              "      border-radius: 50%;\n",
              "      cursor: pointer;\n",
              "      display: none;\n",
              "      fill: #1967D2;\n",
              "      height: 32px;\n",
              "      padding: 0 0 0 0;\n",
              "      width: 32px;\n",
              "    }\n",
              "\n",
              "    .colab-df-convert:hover {\n",
              "      background-color: #E2EBFA;\n",
              "      box-shadow: 0px 1px 2px rgba(60, 64, 67, 0.3), 0px 1px 3px 1px rgba(60, 64, 67, 0.15);\n",
              "      fill: #174EA6;\n",
              "    }\n",
              "\n",
              "    [theme=dark] .colab-df-convert {\n",
              "      background-color: #3B4455;\n",
              "      fill: #D2E3FC;\n",
              "    }\n",
              "\n",
              "    [theme=dark] .colab-df-convert:hover {\n",
              "      background-color: #434B5C;\n",
              "      box-shadow: 0px 1px 3px 1px rgba(0, 0, 0, 0.15);\n",
              "      filter: drop-shadow(0px 1px 2px rgba(0, 0, 0, 0.3));\n",
              "      fill: #FFFFFF;\n",
              "    }\n",
              "  </style>\n",
              "\n",
              "      <script>\n",
              "        const buttonEl =\n",
              "          document.querySelector('#df-861da0c1-6da5-41f5-9840-2955e3bb94c5 button.colab-df-convert');\n",
              "        buttonEl.style.display =\n",
              "          google.colab.kernel.accessAllowed ? 'block' : 'none';\n",
              "\n",
              "        async function convertToInteractive(key) {\n",
              "          const element = document.querySelector('#df-861da0c1-6da5-41f5-9840-2955e3bb94c5');\n",
              "          const dataTable =\n",
              "            await google.colab.kernel.invokeFunction('convertToInteractive',\n",
              "                                                     [key], {});\n",
              "          if (!dataTable) return;\n",
              "\n",
              "          const docLinkHtml = 'Like what you see? Visit the ' +\n",
              "            '<a target=\"_blank\" href=https://colab.research.google.com/notebooks/data_table.ipynb>data table notebook</a>'\n",
              "            + ' to learn more about interactive tables.';\n",
              "          element.innerHTML = '';\n",
              "          dataTable['output_type'] = 'display_data';\n",
              "          await google.colab.output.renderOutput(dataTable, element);\n",
              "          const docLink = document.createElement('div');\n",
              "          docLink.innerHTML = docLinkHtml;\n",
              "          element.appendChild(docLink);\n",
              "        }\n",
              "      </script>\n",
              "    </div>\n",
              "  </div>\n",
              "  "
            ]
          },
          "metadata": {},
          "execution_count": 27
        }
      ]
    },
    {
      "cell_type": "code",
      "source": [
        "n_images = 4"
      ],
      "metadata": {
        "id": "_QeiaNXXMORs"
      },
      "execution_count": null,
      "outputs": []
    },
    {
      "cell_type": "code",
      "source": [
        "fig, m_axs = plt.subplots(2, n_images, figsize = (4*n_images, 3*2))\n",
        "for n_axs, (type_name, type_rows) in zip(m_axs,\n",
        "                                         data_glaucoma_balanced.sort_values(['Total']).groupby('Total')):\n",
        "    n_axs[0].set_title(type_name)\n",
        "    for c_ax, (_, c_row) in zip(n_axs, type_rows.sample(n_images, random_state=1234).iterrows()):\n",
        "        c_ax.imshow(c_row['image'])\n",
        "        c_ax.axis('off')"
      ],
      "metadata": {
        "colab": {
          "base_uri": "https://localhost:8080/",
          "height": 373
        },
        "id": "G6zEw2UnMR-3",
        "outputId": "e5bdd954-2524-4db3-e26f-4df576f39018"
      },
      "execution_count": null,
      "outputs": [
        {
          "output_type": "display_data",
          "data": {
            "text/plain": [
              "<Figure size 1152x432 with 8 Axes>"
            ],
            "image/png": "[encoded data removed]"
          },
          "metadata": {
            "needs_background": "light"
          }
        }
      ]
    },
    {
      "cell_type": "code",
      "source": [
        "X = np.asarray(data_glaucoma_balanced['image'].tolist())"
      ],
      "metadata": {
        "id": "WPPjpOrqNKoj"
      },
      "execution_count": null,
      "outputs": []
    },
    {
      "cell_type": "code",
      "source": [
        "X= np.array(X).reshape(800,-1)"
      ],
      "metadata": {
        "id": "5-_WWJTJO-CJ"
      },
      "execution_count": null,
      "outputs": []
    },
    {
      "cell_type": "code",
      "source": [
        "X = X/255."
      ],
      "metadata": {
        "id": "4qqpt6jVNkAK"
      },
      "execution_count": null,
      "outputs": []
    },
    {
      "cell_type": "code",
      "source": [
        "X.shape"
      ],
      "metadata": {
        "colab": {
          "base_uri": "https://localhost:8080/"
        },
        "id": "5AXRio20NnnW",
        "outputId": "eac03df3-8a40-47cb-ba77-3c51ddf39157"
      },
      "execution_count": null,
      "outputs": [
        {
          "output_type": "execute_result",
          "data": {
            "text/plain": [
              "(800, 49152)"
            ]
          },
          "metadata": {},
          "execution_count": 48
        }
      ]
    },
    {
      "cell_type": "code",
      "source": [
        "X = X.reshape(-1, X.shape[3])"
      ],
      "metadata": {
        "id": "wLt8-ETuOKDo"
      },
      "execution_count": null,
      "outputs": []
    },
    {
      "cell_type": "code",
      "source": [
        "X.shape"
      ],
      "metadata": {
        "colab": {
          "base_uri": "https://localhost:8080/"
        },
        "id": "iPPnwduTOLtD",
        "outputId": "589dce86-c4fa-4a9c-bbc5-65ff01f8df21"
      },
      "execution_count": null,
      "outputs": [
        {
          "output_type": "execute_result",
          "data": {
            "text/plain": [
              "(800, 49152)"
            ]
          },
          "metadata": {},
          "execution_count": 49
        }
      ]
    },
    {
      "cell_type": "code",
      "source": [
        "Y = data_glaucoma_balanced['label']"
      ],
      "metadata": {
        "id": "STLR8qclOXo7"
      },
      "execution_count": null,
      "outputs": []
    },
    {
      "cell_type": "code",
      "source": [
        "Y.shape"
      ],
      "metadata": {
        "colab": {
          "base_uri": "https://localhost:8080/"
        },
        "id": "XP-yAqFwOh1p",
        "outputId": "af46df78-1d83-437a-c107-d3718260c2d3"
      },
      "execution_count": null,
      "outputs": [
        {
          "output_type": "execute_result",
          "data": {
            "text/plain": [
              "(800,)"
            ]
          },
          "metadata": {},
          "execution_count": 51
        }
      ]
    },
    {
      "cell_type": "code",
      "source": [
        "x_train, x_test, y_train, y_test = train_test_split(X, Y, test_size=0.1, random_state=42)"
      ],
      "metadata": {
        "id": "ICCZmiR2Opnn"
      },
      "execution_count": null,
      "outputs": []
    },
    {
      "cell_type": "code",
      "source": [
        "from sklearn.svm import SVC\n",
        "from sklearn.model_selection import GridSearchCV"
      ],
      "metadata": {
        "id": "paFbeEdhPVco"
      },
      "execution_count": null,
      "outputs": []
    },
    {
      "cell_type": "code",
      "source": [
        "param={'kernel':('linear', 'poly', 'rbf', 'sigmoid'),\n",
        "      'C':np.arange(1,2,4),\n",
        "      'degree':np.arange(3,6),\n",
        "      'coef0':np.arange(0.001,3,0.5),\n",
        "      'gamma': ('auto', 'scale',1,2)}"
      ],
      "metadata": {
        "id": "8E5igfmCPbnt"
      },
      "execution_count": null,
      "outputs": []
    },
    {
      "cell_type": "code",
      "source": [
        "SVModel= SVC()\n",
        "grids=GridSearchCV(SVModel,param,cv=5)\n",
        "grids.fit(x_train,y_train)"
      ],
      "metadata": {
        "id": "MEmd0tNOPcNw"
      },
      "execution_count": null,
      "outputs": []
    },
    {
      "cell_type": "code",
      "source": [
        "grids.best_params_"
      ],
      "metadata": {
        "id": "d2KlM57wPiSj"
      },
      "execution_count": null,
      "outputs": []
    },
    {
      "cell_type": "code",
      "source": [
        "SVModel=SVC(kernel='rbf',C=1,gamma=0.1)\n",
        "SVModel.fit(x_train,y_train)"
      ],
      "metadata": {
        "colab": {
          "base_uri": "https://localhost:8080/"
        },
        "id": "z003VdekPir-",
        "outputId": "bff7dca1-34b1-4390-adc7-1e6092f19d88"
      },
      "execution_count": null,
      "outputs": [
        {
          "output_type": "execute_result",
          "data": {
            "text/plain": [
              "SVC(C=1, gamma=0.1)"
            ]
          },
          "metadata": {},
          "execution_count": 54
        }
      ]
    },
    {
      "cell_type": "code",
      "source": [
        "from sklearn.metrics import accuracy_score\n",
        "acc_score=accuracy_score(y_test,SVModel.predict(x_test))"
      ],
      "metadata": {
        "id": "BFzscU0APsQX"
      },
      "execution_count": null,
      "outputs": []
    },
    {
      "cell_type": "code",
      "source": [
        "acc_score"
      ],
      "metadata": {
        "colab": {
          "base_uri": "https://localhost:8080/"
        },
        "id": "zZFJWj-rPzpH",
        "outputId": "cb8a4994-c3fc-46cb-8187-ae5e895b4a17"
      },
      "execution_count": null,
      "outputs": [
        {
          "output_type": "execute_result",
          "data": {
            "text/plain": [
              "1.0"
            ]
          },
          "metadata": {},
          "execution_count": 56
        }
      ]
    },
    {
      "cell_type": "code",
      "source": [
        "acc_score=accuracy_score(y_test,SVModel.predict(x_test))"
      ],
      "metadata": {
        "id": "cYSvuw0zP22D"
      },
      "execution_count": null,
      "outputs": []
    },
    {
      "cell_type": "code",
      "source": [
        "print(\"accuracy=\",acc_score)"
      ],
      "metadata": {
        "colab": {
          "base_uri": "https://localhost:8080/"
        },
        "id": "Whjb117KP4uh",
        "outputId": "ff3bfedd-f41c-4be0-f578-78961dcd106a"
      },
      "execution_count": null,
      "outputs": [
        {
          "output_type": "stream",
          "name": "stdout",
          "text": [
            "accuracy= 1.0\n"
          ]
        }
      ]
    },
    {
      "cell_type": "code",
      "source": [
        "from sklearn.metrics import confusion_matrix,classification_report"
      ],
      "metadata": {
        "id": "XEDSA3RQQJ-I"
      },
      "execution_count": null,
      "outputs": []
    },
    {
      "cell_type": "code",
      "source": [
        "cm = confusion_matrix(y_test,SVModel.predict(x_test))"
      ],
      "metadata": {
        "id": "t7vmreJiQPYz"
      },
      "execution_count": null,
      "outputs": []
    },
    {
      "cell_type": "code",
      "source": [
        "print(cm)"
      ],
      "metadata": {
        "colab": {
          "base_uri": "https://localhost:8080/"
        },
        "id": "_X6_5glzQRTG",
        "outputId": "5ccc19b4-f07e-4b0d-fc4d-023a9b3f0a07"
      },
      "execution_count": null,
      "outputs": [
        {
          "output_type": "stream",
          "name": "stdout",
          "text": [
            "[[41  0]\n",
            " [ 0 39]]\n"
          ]
        }
      ]
    },
    {
      "cell_type": "code",
      "source": [
        "sns.heatmap(cm,annot=True,fmt='g')"
      ],
      "metadata": {
        "colab": {
          "base_uri": "https://localhost:8080/",
          "height": 282
        },
        "id": "0MoRWCDMQYq7",
        "outputId": "b5e8209c-7bc4-496a-b310-efabcda6a9c7"
      },
      "execution_count": null,
      "outputs": [
        {
          "output_type": "execute_result",
          "data": {
            "text/plain": [
              "<matplotlib.axes._subplots.AxesSubplot at 0x7f0764b4c850>"
            ]
          },
          "metadata": {},
          "execution_count": 63
        },
        {
          "output_type": "display_data",
          "data": {
            "text/plain": [
              "<Figure size 432x288 with 2 Axes>"
            ],
            "image/png": "[encoded data removed]"
          },
          "metadata": {
            "needs_background": "light"
          }
        }
      ]
    },
    {
      "cell_type": "code",
      "source": [
        "incorr_fraction = 1 - np.diag(cm) / np.sum(cm, axis=1)\n",
        "plt.bar(np.arange(2), incorr_fraction)\n",
        "plt.xlabel('True Label')\n",
        "plt.ylabel('Fraction of incorrect predictions')"
      ],
      "metadata": {
        "colab": {
          "base_uri": "https://localhost:8080/",
          "height": 296
        },
        "id": "FP0Tuk7XQgvy",
        "outputId": "e8dc7860-7bbd-4668-bf9b-c0bc8ddffeef"
      },
      "execution_count": null,
      "outputs": [
        {
          "output_type": "execute_result",
          "data": {
            "text/plain": [
              "Text(0, 0.5, 'Fraction of incorrect predictions')"
            ]
          },
          "metadata": {},
          "execution_count": 64
        },
        {
          "output_type": "display_data",
          "data": {
            "text/plain": [
              "<Figure size 432x288 with 1 Axes>"
            ],
            "image/png": "[encoded data removed]"
          },
          "metadata": {
            "needs_background": "light"
          }
        }
      ]
    },
    {
      "cell_type": "code",
      "source": [
        "y_pred = SVModel.predict(x_test)\n",
        "y_pred_classes = np.argmax(y_pred, axis = -1)"
      ],
      "metadata": {
        "id": "gA4OXv62Qo4e"
      },
      "execution_count": null,
      "outputs": []
    },
    {
      "cell_type": "code",
      "source": [
        "cp = classification_report(y_test,y_pred)\n",
        "print(cp)"
      ],
      "metadata": {
        "colab": {
          "base_uri": "https://localhost:8080/"
        },
        "id": "XbP7EyHvQtEL",
        "outputId": "151e810f-c971-46f9-9114-d4b34267b6d1"
      },
      "execution_count": null,
      "outputs": [
        {
          "output_type": "stream",
          "name": "stdout",
          "text": [
            "              precision    recall  f1-score   support\n",
            "\n",
            "           0       1.00      1.00      1.00        41\n",
            "           1       1.00      1.00      1.00        39\n",
            "\n",
            "    accuracy                           1.00        80\n",
            "   macro avg       1.00      1.00      1.00        80\n",
            "weighted avg       1.00      1.00      1.00        80\n",
            "\n"
          ]
        }
      ]
    }
  ]
}